{
 "cells": [
  {
   "cell_type": "markdown",
   "id": "7a893625-1e45-471a-9ddc-3d25a9989889",
   "metadata": {},
   "source": "# Limpeza dos dados"
  },
  {
   "cell_type": "code",
   "id": "81e681c6-755e-4d81-b1af-16f902be4e03",
   "metadata": {
    "ExecuteTime": {
     "end_time": "2025-06-02T09:39:44.291729Z",
     "start_time": "2025-06-02T09:39:44.217209Z"
    }
   },
   "source": [
    "import warnings\n",
    "import pandas as pd\n",
    "import seaborn as sns\n",
    "import matplotlib.pyplot as plt\n",
    "from sklearn.preprocessing import StandardScaler\n",
    "from scipy.stats import shapiro, normaltest"
   ],
   "outputs": [],
   "execution_count": 48
  },
  {
   "cell_type": "code",
   "id": "2714e2de-8fe3-4c7e-bd9a-5ebd1ce405b8",
   "metadata": {
    "ExecuteTime": {
     "end_time": "2025-06-02T09:39:59.021854Z",
     "start_time": "2025-06-02T09:39:48.263604Z"
    }
   },
   "source": [
    "# Leitura dos dados\n",
    "\n",
    "dataset_constructs = \"promoters_RBS.xlsx\"\n",
    "dataset_promoters = \"promoters.xlsx\"\n",
    "dataset_rbs = \"RBS.xlsx\"\n",
    "\n",
    "\n",
    "warnings.filterwarnings('ignore', category=UserWarning, module='openpyxl') # suprimir um aviso por causa do rodapé e do cabeçalho (não consegue ler)\n",
    "\n",
    "df_constructs = pd.read_excel(dataset_constructs)\n",
    "promoters_df = pd.read_excel(dataset_promoters)\n",
    "rbs_df = pd.read_excel(dataset_rbs)"
   ],
   "outputs": [],
   "execution_count": 49
  },
  {
   "metadata": {
    "ExecuteTime": {
     "end_time": "2025-06-02T09:39:59.824538Z",
     "start_time": "2025-06-02T09:39:59.799828Z"
    }
   },
   "cell_type": "code",
   "source": [
    "# Filtragem inicial\n",
    "\n",
    "\"\"\"\n",
    "bad.promo -> `TRUE` se o promotor do construct apresenta problemas técnicos.\n",
    "\n",
    "min.prot -> `TRUE` se `prot` (proteína) está abaixo do limite inferior de deteção, indica dados não confiáveis (subestimados).\n",
    "\n",
    "max.prot`  -> `TRUE` se `prot` (proteína) está acima do limite superior de deteção, indica saturação do sinal (sobrestimados).\n",
    "\n",
    "bad.prot -> `TRUE` se dados de proteína não são confiáveis.\n",
    "\n",
    "bad.DNA -> `TRUE` se contagens de DNA são insuficientes.\n",
    "\n",
    "bad.RNA -> `TRUE` se dados de RNA não são confiáveis (ex: baixa contagem + baixo DNA)\n",
    "\n",
    "min.RNA -> `TRUE` se ambas replicas de RNA estão abaixo do limite.\n",
    "\n",
    "\"\"\"\n",
    "\n",
    "\n",
    "# Preservar linhas com 'False'\n",
    "df_clean = df_constructs[\n",
    "    (df_constructs[\"bad.promo\"] == False) &\n",
    "    (df_constructs[\"bad.prot\"] == False) &\n",
    "    (df_constructs[\"bad.DNA\"] == False) &\n",
    "    (df_constructs[\"bad.RNA\"] == False) &\n",
    "    (df_constructs[\"min.prot\"] == False) &\n",
    "    (df_constructs[\"max.prot\"] == False) &\n",
    "    (df_constructs[\"min.RNA\"] == False)\n",
    "]\n",
    "\n",
    "# Remover todas as linhas com NA em 'prot' (sem dados de expressão)\n",
    "df_clean = df_clean.dropna(subset=['prot'])"
   ],
   "id": "6517740ffc80cb66",
   "outputs": [],
   "execution_count": 50
  },
  {
   "metadata": {
    "ExecuteTime": {
     "end_time": "2025-06-02T09:12:46.288441Z",
     "start_time": "2025-06-02T09:12:46.270594Z"
    }
   },
   "cell_type": "code",
   "source": [
    "# Testes à normalidade\n",
    "stat_prot, p_prot = shapiro(df_clean['prot'])\n",
    "print(f\"p = {p_prot}\")\n",
    "\n",
    "if p_prot < 0.05:\n",
    "    print(\"Rejeita-se H0 → os dados de 'prot' não seguem normalidade.\")\n",
    "else:\n",
    "    print(\"Não se rejeita H0 → os dados podem ser normais.\")\n",
    "\n",
    "\n",
    "stat_DNA, p_DNA = shapiro(df_clean['count.DNA'])\n",
    "print(f\"p = {p_DNA}\")\n",
    "\n",
    "if p_DNA < 0.05:\n",
    "    print(\"Rejeita-se H0 → os dados de 'count.DNA' não seguem normalidade.\")\n",
    "else:\n",
    "    print(\"Não se rejeita H0 → os dados podem ser normais.\")\n",
    "\n",
    "\n",
    "stat_RNA, p_RNA = shapiro(df_clean['count.RNA'])\n",
    "print(f\"p = {p_RNA}\")\n",
    "\n",
    "if p_RNA < 0.05:\n",
    "    print(\"Rejeita-se H0 → os dados de 'count.RNA' não seguem normalidade.\")\n",
    "else:\n",
    "    print(\"Não se rejeita H0 → os dados podem ser normais.\")"
   ],
   "id": "63c7280e15765a63",
   "outputs": [
    {
     "name": "stdout",
     "output_type": "stream",
     "text": [
      "p = 7.857680826090657e-73\n",
      "Rejeita-se H0 → os dados de 'prot' não seguem normalidade.\n",
      "p = 3.292514724388838e-50\n",
      "Rejeita-se H0 → os dados de 'count.DNA' não seguem normalidade.\n",
      "p = 1.0388726987113645e-71\n",
      "Rejeita-se H0 → os dados de 'count.RNA' não seguem normalidade.\n"
     ]
    },
    {
     "name": "stderr",
     "output_type": "stream",
     "text": [
      "C:\\Users\\joama\\anaconda3\\Lib\\site-packages\\scipy\\stats\\_axis_nan_policy.py:531: UserWarning: scipy.stats.shapiro: For N > 5000, computed p-value may not be accurate. Current N is 9336.\n",
      "  res = hypotest_fun_out(*samples, **kwds)\n"
     ]
    }
   ],
   "execution_count": 28
  },
  {
   "metadata": {
    "ExecuteTime": {
     "end_time": "2025-06-02T09:05:40.698717Z",
     "start_time": "2025-06-02T09:05:40.279645Z"
    }
   },
   "cell_type": "code",
   "outputs": [
    {
     "data": {
      "text/plain": [
       "<Figure size 640x480 with 1 Axes>"
      ],
      "image/png": "[encoded data removed]"
     },
     "metadata": {},
     "output_type": "display_data"
    }
   ],
   "execution_count": 23,
   "source": [
    "# Histogramas de distribuição\n",
    "sns.histplot(df_clean['prot'], kde=True)\n",
    "plt.title(\"Distribuição de 'prot'\")\n",
    "plt.show()\n",
    "\n",
    "sns.histplot(df_clean['count.DNA'], kde=True)\n",
    "plt.title(\"Distribuição de 'count.DNA'\")\n",
    "plt.show()\n",
    "\n",
    "sns.histplot(df_clean['count.RNA'], kde=True)\n",
    "plt.title(\"Distribuição de 'count.RNA'\")\n",
    "plt.show()"
   ],
   "id": "6997ac1a2dfa213d"
  },
  {
   "metadata": {
    "ExecuteTime": {
     "end_time": "2025-06-02T09:40:06.844086Z",
     "start_time": "2025-06-02T09:40:06.801306Z"
    }
   },
   "cell_type": "code",
   "source": [
    "# 1. Filtragem por outliers na coluna 'prot'\n",
    "Q1_prot = df_clean['prot'].quantile(0.25)\n",
    "Q3_prot = df_clean['prot'].quantile(0.75)\n",
    "IQR_prot = Q3_prot - Q1_prot\n",
    "\n",
    "lower_prot = Q1_prot - 1.5 * IQR_prot\n",
    "upper_prot = Q3_prot + 1.5 * IQR_prot\n",
    "\n",
    "df_step1 = df_clean[(df_clean['prot'] >= lower_prot) & (df_clean['prot'] <= upper_prot)]\n",
    "\n",
    "# 2. Filtragem por outliers na coluna 'count.DNA'\n",
    "Q1_dna = df_step1['count.DNA'].quantile(0.25)\n",
    "Q3_dna = df_step1['count.DNA'].quantile(0.75)\n",
    "IQR_dna = Q3_dna - Q1_dna\n",
    "\n",
    "lower_dna = Q1_dna - 1.5 * IQR_dna\n",
    "upper_dna = Q3_dna + 1.5 * IQR_dna\n",
    "\n",
    "df_step2 = df_step1[(df_step1['count.DNA'] >= lower_dna) & (df_step1['count.DNA'] <= upper_dna)]\n",
    "\n",
    "# 3. Filtragem por outliers na coluna 'count.RNA'\n",
    "Q1_rna = df_step2['count.RNA'].quantile(0.25)\n",
    "Q3_rna = df_step2['count.RNA'].quantile(0.75)\n",
    "IQR_rna = Q3_rna - Q1_rna\n",
    "\n",
    "lower_rna = Q1_rna - 1.5 * IQR_rna\n",
    "upper_rna = Q3_rna + 1.5 * IQR_rna\n",
    "\n",
    "df_filtered = df_step2[(df_step2['count.RNA'] >= lower_rna) & (df_step2['count.RNA'] <= upper_rna)]\n",
    "\n",
    "# Reiniciar índices por conveniência\n",
    "df_filtered = df_filtered.reset_index(drop=True)\n",
    "\n",
    "# Normalização da coluna 'prot' após remoção de outliers (média = 0, desvio padrão = 1)\n",
    "df_filtered = df_filtered.copy()\n",
    "df_filtered['prot_z'] = scaler.fit_transform(df_filtered[['prot']])\n",
    "\n",
    "# Estatísticas\n",
    "num_linhas_o = len(df_constructs)\n",
    "num_linhas = len(df_filtered)\n",
    "perc = (num_linhas/num_linhas_o)*100\n",
    "\n",
    "print(f\"Número de linhas no dataset original: {num_linhas_o}\")\n",
    "print(f\"Número de linhas no dataset filtrado: {num_linhas}\")\n",
    "print(f\"Percentagem de linhas removidas: {100-perc:.2f}%\")\n"
   ],
   "id": "693723941a8518a7",
   "outputs": [
    {
     "name": "stdout",
     "output_type": "stream",
     "text": [
      "Número de linhas no dataset original: 12655\n",
      "Número de linhas no dataset filtrado: 8794\n",
      "Percentagem de linhas removidas: 30.51%\n"
     ]
    }
   ],
   "execution_count": 51
  },
  {
   "metadata": {
    "ExecuteTime": {
     "end_time": "2025-06-02T10:00:09.953261Z",
     "start_time": "2025-06-02T10:00:08.415451Z"
    }
   },
   "cell_type": "code",
   "source": [
    "# Preparação do dataset final\n",
    "\n",
    "# --- Definir spacer ---\n",
    "spacer = \"AACTT\"  # Spacer neutro e curto, sem codões de start ou stop\n",
    "\n",
    "# --- Eliminar espaços nas sequências dos datasets originais (caso existam) ---\n",
    "promoters_df['Sequence'] = promoters_df['Sequence'].str.replace(\" \", \"\")\n",
    "rbs_df['Sequence'] = rbs_df['Sequence'].str.replace(\" \", \"\")\n",
    "\n",
    "# --- Merge com sequências dos promotores ---\n",
    "df_merged = df_filtered.merge(\n",
    "    promoters_df[['full.name', 'Sequence']],\n",
    "    left_on='Promoter.TTL',\n",
    "    right_on='full.name',\n",
    "    how='left'\n",
    ")\n",
    "df_merged = df_merged.rename(columns={'Sequence': 'promoter_seq'}).drop(columns='full.name')\n",
    "\n",
    "# --- Merge com sequências dos RBS ---\n",
    "df_merged = df_merged.merge(\n",
    "    rbs_df[['full.name', 'Sequence']],\n",
    "    left_on='RBS.TTL',\n",
    "    right_on='full.name',\n",
    "    how='left'\n",
    ")\n",
    "df_merged = df_merged.rename(columns={'Sequence': 'rbs_seq'}).drop(columns='full.name')\n",
    "\n",
    "# --- Construção da sequência final (Promotor + Spacer + RBS) ---\n",
    "df_merged['full_sequence'] = df_merged['promoter_seq'] + spacer + df_merged['rbs_seq']\n",
    "\n",
    "\n",
    "# Selecionar apenas as colunas essenciais\n",
    "df_minimal = df_merged[['target', 'full_sequence', 'prot_z']].rename(columns={\n",
    "    'full_sequence': 'sequence'\n",
    "})\n",
    "\n",
    "# Exportar para CSV\n",
    "df_minimal.to_csv(\"training_data.csv\", index=False)\n",
    "\n",
    "# Exportar para Excel (apenas para verificar se está tudo ok)\n",
    "df_minimal.to_excel(\"dataset_final.xlsx\", index=False)"
   ],
   "id": "493c415fc59e1b82",
   "outputs": [],
   "execution_count": 58
  }
 ],
 "metadata": {
  "kernelspec": {
   "display_name": "Python 3 (ipykernel)",
   "language": "python",
   "name": "python3"
  },
  "language_info": {
   "codemirror_mode": {
    "name": "ipython",
    "version": 3
   },
   "file_extension": ".py",
   "mimetype": "text/x-python",
   "name": "python",
   "nbconvert_exporter": "python",
   "pygments_lexer": "ipython3",
   "version": "3.12.4"
  }
 },
 "nbformat": 4,
 "nbformat_minor": 5
}
